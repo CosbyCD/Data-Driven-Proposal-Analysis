{
  "nbformat": 4,
  "nbformat_minor": 0,
  "metadata": {
    "colab": {
      "provenance": [],
      "authorship_tag": "ABX9TyP1mtElA8mEwSkhxO1FqEFE",
      "include_colab_link": true
    },
    "kernelspec": {
      "name": "python3",
      "display_name": "Python 3"
    },
    "language_info": {
      "name": "python"
    }
  },
  "cells": [
    {
      "cell_type": "markdown",
      "metadata": {
        "id": "view-in-github",
        "colab_type": "text"
      },
      "source": [
        "<a href=\"https://colab.research.google.com/github/CosbyCD/GAC_Cyclistic_project/blob/main/project_outline.ipynb\" target=\"_parent\"><img src=\"https://colab.research.google.com/assets/colab-badge.svg\" alt=\"Open In Colab\"/></a>"
      ]
    },
    {
      "cell_type": "code",
      "execution_count": null,
      "metadata": {
        "id": "8MTPiPR1jH1T"
      },
      "outputs": [],
      "source": []
    },
    {
      "cell_type": "markdown",
      "source": [
        "\n",
        "**Project Outline: Cyclistic Marketing Strategies for Converting Casual Riders into Annual Members**\n",
        "<br>\n",
        "<br>\n",
        "Key Participants:\n",
        "Cherrie Cosby – Junior Data Analyst, Cyclistic Marketing Analytics Team\n",
        "Lily Moreno – Director of Marketing, Cyclistic\n",
        "<br>\n",
        "<br>\n",
        "Company and Program Details:\n",
        "Cyclistic: Bike share program in Chicago\n",
        "Bicycles: 5,824 bikes, 692 docking stations\n",
        "\n",
        "Bike Categories: Classic, Docked, Electric\n",
        "\n",
        "Bike Styles: Traditional, Reclining, Hand Tricycles, Cargo (for inclusivity)\n",
        "\n",
        "Usage: 70% leisure, 30% commuting, 8% assistive options\n",
        "\n",
        "Pricing Plans: Single-ride, Full-day, Annual membership\n",
        "<br>\n",
        "<br>\n",
        "Background and Task:\n",
        "Design marketing strategies to convert casual riders into annual members. Understand differences between annual members and casual riders, reasons for casual riders to become members, and leverage digital media for effective marketing tactics. Analyze historical bike trip data for trends.\n",
        "<br>\n",
        "<br>\n",
        "Hypothesis:\n",
        "Maximizing annual members will drive future growth.\n",
        "<br>\n",
        "<br>\n",
        "Goal:\n",
        "Increase conversion of casual riders to annual members.\n",
        "<br>\n",
        "<br>\n",
        "Questions to be Answered:\n",
        "<br>\n",
        "<br>\n",
        "How do annual members and casual riders use Cyclistic bikes differently? ->\n",
        "Identify usage differences between the two groups.\n",
        "<br>\n",
        "Why would casual riders buy a Cyclistic membership? ->\n",
        "Identify factors influencing their decision.\n",
        "<br>\n",
        "How can digital media influence casual riders to become members? ->\n",
        "Rank successful channels and create outlines for each.\n",
        "<br>\n",
        "<br>\n",
        "Business Statement:\n",
        "\"At Cyclistic, our vision is to transform urban mobility by providing accessible and sustainable bike-sharing solutions. We recognize that our annual membership program holds the key to future growth and enhanced user experiences. By understanding the unique behaviors of our annual members and casual riders, we can tailor our marketing strategies to effectively convert casual riders into loyal, committed members.\n",
        "<br>\n",
        "<br>\n",
        "Our objective is to elevate the Cyclistic experience for every rider, empowering them to choose a healthier, eco-friendly mode of transportation. Through insightful data analysis and innovative digital media campaigns, we aim to create a seamless transition for casual riders, inspiring them to embrace the benefits of annual membership.\n",
        "<br>\n",
        "<br>\n",
        "We are committed to fostering inclusivity in urban transportation, as demonstrated by our diverse range of bike styles that cater to various needs, including people with disabilities. By leveraging the power of digital media channels, we intend to engage casual riders and showcase the advantages of our membership program, highlighting convenience, cost savings, and personalized riding experiences.\n",
        "<br>\n",
        "<br>\n",
        "Our collaborative efforts, led by Cherrie Cosby's expertise in data analysis and Lily Moreno's visionary marketing leadership, will propel Cyclistic towards its goal of increased annual memberships. With a keen focus on understanding user behavior, identifying influential factors, and harnessing the potential of digital media, Cyclistic is poised to revolutionize the way Chicago residents perceive and embrace bike-sharing.\""
      ],
      "metadata": {
        "id": "WIM5jip_limQ"
      }
    }
  ]
}